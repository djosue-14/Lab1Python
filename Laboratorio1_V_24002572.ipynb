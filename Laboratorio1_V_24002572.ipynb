{
 "cells": [
  {
   "cell_type": "markdown",
   "id": "ab5f7187-3862-49a9-9f7b-74026c19238b",
   "metadata": {
    "jp-MarkdownHeadingCollapsed": true,
    "tags": []
   },
   "source": [
    "# 1. Git"
   ]
  },
  {
   "cell_type": "markdown",
   "id": "5a0f9c81-b16d-4f17-b4b9-15e966096d4f",
   "metadata": {},
   "source": [
    "Git es un sistema de control de versiones distribuido que gestiona el historial de cambios durante el desarrollo de software. Está diseñado para el trabajo colaborativo entre los programadores, pero puede ser utilizado para seguimiento al conjunto de cambios en cualquier archivo. Entre sus objetivos principales esta la velocidad, la integridad de la información y el soporte de flujos de trabajos distribuidos y no lineales."
   ]
  },
  {
   "cell_type": "markdown",
   "id": "2fd6e7b7-46cb-4076-92e3-0b12d229cc90",
   "metadata": {
    "jp-MarkdownHeadingCollapsed": true,
    "tags": []
   },
   "source": [
    "# 2. GitHub"
   ]
  },
  {
   "cell_type": "markdown",
   "id": "bf22f16e-fe7f-4ffd-875d-1170fcba66af",
   "metadata": {
    "tags": []
   },
   "source": [
    "GitHub es un servicio de alojamiento de repositorios Git basado en la web, que ofrece toda la funcionalidad de control de revisiones distribuidas y gestión de código fuente (SCM) de Git, además de añadir sus propias características. GitHub permite a los desarrolladores almacenar, gestionar y compartir proyectos de software de manera eficiente. Además, tiene la particularidad de permitir que los desarrolladores puedan participar en proyectos públicos o privados."
   ]
  },
  {
   "cell_type": "markdown",
   "id": "ee23ef9a-83b3-4cfb-87c7-10ccc18810b8",
   "metadata": {
    "jp-MarkdownHeadingCollapsed": true,
    "tags": []
   },
   "source": [
    "# 3. Diferencias Entre Git y GitHub"
   ]
  },
  {
   "cell_type": "markdown",
   "id": "31b69940-ec9a-4843-8877-90e0df65ff4e",
   "metadata": {
    "jp-MarkdownHeadingCollapsed": true,
    "tags": []
   },
   "source": [
    "| Git      | Github |\n",
    "| ----------- | ----------- |\n",
    "| Software      | Servicio       |\n",
    "| Herramienta de la terminal | Interfaz gráfica de usuario |\n",
    "| Se instala en el sistema operativo | Se encuentra alojado en la web |\n",
    "| Recibe soporte por parte de Linux | Recibe soporte por parte de Microsoft |\n",
    "| Se centra en el control de versiones y el intercambio de código | Se centra en el alojamiento centralizado de código fuente |\n",
    "| Es un sistema de control de versiones para administrar el historial del código fuente | Es un servicio de alojamiento para repositorios Git |\n",
    "| Licencia open-source | Cuenta con una versión gratuita limitada y una opción de pago por uso |\n",
    "| Otras alternativas son CVS, Azure DevOps Server, Subversion, Mercurial, etc. | Otras alternativas son GitLab, Bit Bucket, AWS Code Commit, etc. |"
   ]
  },
  {
   "cell_type": "markdown",
   "id": "125fb5da-ec97-41c7-b59b-17b7eb9d34b3",
   "metadata": {},
   "source": [
    "# 4. MagicCells"
   ]
  },
  {
   "cell_type": "markdown",
   "id": "0841253a-42d4-47a9-8aa1-d8f46ec7b082",
   "metadata": {},
   "source": [
    "Las MagicCells son comandos especiales que permiten al usuario modificar el comportamiento de una celda de código de manera explícita. Una MagicCell está formada por el prefijo `%` o `%%` seguido del nombre del comando. Las MagicCells proporciona una documentación más clara al renderizar contenido en varios formatos como Markdown y HTML. Para utilizar un MagicComand se debe utilizar la siguiente notación:"
   ]
  },
  {
   "cell_type": "markdown",
   "id": "828d354b-9d28-4cad-8d0a-3faf35abae0c",
   "metadata": {},
   "source": [
    "1. `%` se utiliza para ejecutar comandos de una sola línea.\n",
    "2. `%%` se utiliza para ejecutar comandos con más de una línea (también funciona para comandos de una sola línea)."
   ]
  },
  {
   "cell_type": "markdown",
   "id": "5b149cec-7f0a-4e86-80ef-41ca10028528",
   "metadata": {},
   "source": [
    "# 5. Ejemplo MagicCell, Git y GitHub"
   ]
  },
  {
   "cell_type": "markdown",
   "id": "762e780c-efbf-4a2c-8f5c-bccd38ee05fd",
   "metadata": {
    "tags": []
   },
   "source": [
    "A continuacion se mostrara un ejemplo de como subir los cambios a un repositorio de GitHub utilizando la terminal."
   ]
  },
  {
   "cell_type": "markdown",
   "id": "b7ab1bf1-b405-4c83-b652-b15e07583927",
   "metadata": {},
   "source": [
    "_Nota: para todo el ejemplo automagic esta predeterminado, por lo que no es necesario utilizar `%` en las instrucciones de una sola línea_\n",
    "\n",
    "1. Se empieza por validar el status del repositorio:"
   ]
  },
  {
   "cell_type": "code",
   "execution_count": 62,
   "id": "a4718fba-f4d9-4c2f-aff3-4f0edcad17fa",
   "metadata": {
    "tags": []
   },
   "outputs": [
    {
     "name": "stdout",
     "output_type": "stream",
     "text": [
      "On branch main\n",
      "Your branch is up to date with 'origin/main'.\n",
      "\n",
      "Untracked files:\n",
      "  (use \"git add <file>...\" to include in what will be committed)\n",
      "\t\u001b[31m.ipynb_checkpoints/\u001b[m\n",
      "\t\u001b[31mLaboratorio1_V_24002572.ipynb\u001b[m\n",
      "\n",
      "nothing added to commit but untracked files present (use \"git add\" to track)\n"
     ]
    }
   ],
   "source": [
    "!git status"
   ]
  },
  {
   "cell_type": "markdown",
   "id": "a2a2ecc2-37c8-416c-98c3-ad6c33e45418",
   "metadata": {
    "tags": []
   },
   "source": [
    "2. Como segundo paso se debe agregar los archivos nuevos y con cambios que se listaron en el paso anterior, en el repositorio local. en este caso **_Laboratorio1_V_24002572.ipynb_**"
   ]
  },
  {
   "cell_type": "code",
   "execution_count": 54,
   "id": "e36921a2-8857-4695-862e-0d56da80e365",
   "metadata": {
    "tags": []
   },
   "outputs": [
    {
     "name": "stdout",
     "output_type": "stream",
     "text": [
      "zsh:1: command not found: gitt\n"
     ]
    }
   ],
   "source": [
    "!git add Laboratorio1_V_24002572.ipynb"
   ]
  },
  {
   "cell_type": "markdown",
   "id": "5551e5dd-0512-4aaa-bdbf-8f8db374111d",
   "metadata": {
    "tags": []
   },
   "source": [
    "3. El paso número tres consiste en confirmar los cambios agregados al repositorio en el paso 2."
   ]
  },
  {
   "cell_type": "code",
   "execution_count": 59,
   "id": "e51af5f1-d6a4-45ab-ba99-c57e96658d29",
   "metadata": {
    "tags": []
   },
   "outputs": [
    {
     "name": "stdout",
     "output_type": "stream",
     "text": [
      "zsh:1: command not found: gitt\n"
     ]
    }
   ],
   "source": [
    "!git commit -m \"Se agrega Notebook de Python al repositorio\""
   ]
  },
  {
   "cell_type": "markdown",
   "id": "9934ed9d-72f5-42c4-8c6d-3ee069143ebb",
   "metadata": {
    "tags": []
   },
   "source": [
    "Por último se debe enviar los cambios al repositorio remote, en este caso al repositorio en GitHub."
   ]
  },
  {
   "cell_type": "code",
   "execution_count": null,
   "id": "e8dbfb9f-cbf8-46e1-ab03-d7738d01bb20",
   "metadata": {},
   "outputs": [],
   "source": [
    "!git push origin master"
   ]
  }
 ],
 "metadata": {
  "kernelspec": {
   "display_name": "Python 3 (ipykernel)",
   "language": "python",
   "name": "python3"
  },
  "language_info": {
   "codemirror_mode": {
    "name": "ipython",
    "version": 3
   },
   "file_extension": ".py",
   "mimetype": "text/x-python",
   "name": "python",
   "nbconvert_exporter": "python",
   "pygments_lexer": "ipython3",
   "version": "3.11.5"
  }
 },
 "nbformat": 4,
 "nbformat_minor": 5
}
